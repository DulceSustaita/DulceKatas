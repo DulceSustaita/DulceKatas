{
 "cells": [
  {
   "cell_type": "markdown",
   "metadata": {},
   "source": [
    "## Advertencia de asteroide"
   ]
  },
  {
   "cell_type": "code",
   "execution_count": 1,
   "metadata": {},
   "outputs": [
    {
     "name": "stdout",
     "output_type": "stream",
     "text": [
      "ADVERTENCIA DE ASTEROIDE\n",
      "\n",
      "EVACUAR DE INVEDIATO\n",
      " \n"
     ]
    }
   ],
   "source": [
    "asteroide = 49\n",
    "\n",
    "if asteroide >= 25:\n",
    "    print('ADVERTENCIA DE ASTEROIDE\\n')\n",
    "    print('EVACUAR DE INVEDIATO\\n ')\n",
    "else:\n",
    "    print('Hoy no hay advertencia^^')\n"
   ]
  },
  {
   "cell_type": "markdown",
   "metadata": {},
   "source": [
    "## Ejercicio 2"
   ]
  },
  {
   "cell_type": "code",
   "execution_count": 3,
   "metadata": {},
   "outputs": [
    {
     "name": "stdout",
     "output_type": "stream",
     "text": [
      "Esta noche podremos ver pasar un destello de luz!!\n",
      "Disfruta la vista!! \n",
      " Asteroide Pasando\n"
     ]
    }
   ],
   "source": [
    "asteroideluz=19\n",
    "#print('Ejercicio asteroide')\n",
    "\n",
    "if asteroide >= 20:\n",
    "    print('Esta noche podremos ver pasar un destello de luz!!')\n",
    "    print('Disfruta la vista!! \\n Asteroide Pasando')\n",
    "else:\n",
    "    print('Esta noche no hay asteroides paseando por la Tierra:c')\n"
   ]
  },
  {
   "cell_type": "code",
   "execution_count": null,
   "metadata": {},
   "outputs": [],
   "source": [
    "#Codigo con info completa\n",
    "asteroide = 49 #velocidad\n",
    "tamaño = 70 #tamaño asteroide\n",
    "\n",
    "if asteroide >= 20 and asteroide < 25:\n",
    "    print('Esta noche podremos ver pasar un destello de luz!!')\n",
    "    print('Disfruta la vista!! \\n Asteroide Pasando')\n",
    "elif asteroide >=25 and tamaño >= 25 and tamaño <= 1000:\n",
    "    print('ADVERTENCIA DE ASTEROIDE\\n')\n",
    "    print('ADVERTENCIA DE ASTEROIDE\\n')\n",
    "    print('ADVERTENCIA DE ASTEROIDE\\n')\n",
    "    print('!!IR AL REFUGIO!!\\n')\n",
    "    print('¡¡GUARDAR LA CALMA!!\\n')\n",
    "    print('ADVERTENCIA DE ASTEROIDE\\n')\n",
    "    print('ADVERTENCIA DE ASTEROIDE\\n')\n",
    "else:\n",
    "    print('Hoy no hay advertencia^^')\n",
    "    print('Sigue con tu vida calmada')"
   ]
  }
 ],
 "metadata": {
  "interpreter": {
   "hash": "dcbde28c3b60d932f52f7fe64a9f9beaf0fd0de4220d2034193ff3ba875b85b3"
  },
  "kernelspec": {
   "display_name": "Python 3.10.2 64-bit",
   "language": "python",
   "name": "python3"
  },
  "language_info": {
   "codemirror_mode": {
    "name": "ipython",
    "version": 3
   },
   "file_extension": ".py",
   "mimetype": "text/x-python",
   "name": "python",
   "nbconvert_exporter": "python",
   "pygments_lexer": "ipython3",
   "version": "3.10.2"
  },
  "orig_nbformat": 4
 },
 "nbformat": 4,
 "nbformat_minor": 2
}
