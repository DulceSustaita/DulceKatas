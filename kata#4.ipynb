{
 "cells": [
  {
   "cell_type": "markdown",
   "metadata": {},
   "source": [
    "# Eejercicio 1: Transformar cadenas"
   ]
  },
  {
   "cell_type": "code",
   "execution_count": 114,
   "metadata": {},
   "outputs": [],
   "source": [
    "import numpy as np"
   ]
  },
  {
   "cell_type": "code",
   "execution_count": 115,
   "metadata": {},
   "outputs": [],
   "source": [
    "text = \"\"\"Interesting facts about the Moon. The Moon is Earth's only satellite. There are several interesting facts about the Moon and how it affects life here on Eart. On average, the Moon moves 4cm away from the Earth every year. This yearly drift is not significant enough to cause immediate effects on Earth. The highest daylight temperature of the Moon is 127 C.\"\"\""
   ]
  },
  {
   "cell_type": "code",
   "execution_count": 126,
   "metadata": {},
   "outputs": [
    {
     "name": "stdout",
     "output_type": "stream",
     "text": [
      "['Interesting facts about the Moon', \" The Moon is Earth's only satellite\", ' There are several interesting facts about the Moon and how it affects life here on Eart', ' On average, the Moon moves 4cm away from the Earth every year', ' This yearly drift is not significant enough to cause immediate effects on Earth', ' The highest daylight temperature of the Moon is 127 C', '']\n"
     ]
    },
    {
     "data": {
      "text/plain": [
       "1"
      ]
     },
     "execution_count": 126,
     "metadata": {},
     "output_type": "execute_result"
    }
   ],
   "source": [
    "#Dividir las oraciones\n",
    "sentences = text.split('.') \n",
    "print(sentences)\n",
    "\n",
    "type(sentences)\n",
    "sentences.count('Interesting facts about the Moon')"
   ]
  },
  {
   "cell_type": "code",
   "execution_count": 127,
   "metadata": {},
   "outputs": [
    {
     "name": "stdout",
     "output_type": "stream",
     "text": [
      "The sentence have a average:  1\n",
      "The sentence have a temperature:  1\n",
      "The sentence have a distance:  0\n"
     ]
    }
   ],
   "source": [
    "#Buscar en oraciones:\n",
    "# Define las palabras pista: average, temperature y distance \n",
    "busca1 = 'average'\n",
    "busca2 = 'temperature'\n",
    "busca3 = 'distance'\n",
    "\n",
    "print(\"The sentence have a average: \", text.count(busca1))\n",
    "print(\"The sentence have a temperature: \", text.count(busca2))\n",
    "print(\"The sentence have a distance: \", text.count(busca3))"
   ]
  },
  {
   "cell_type": "code",
   "execution_count": 164,
   "metadata": {},
   "outputs": [
    {
     "name": "stdout",
     "output_type": "stream",
     "text": [
      "[' On average, the Moon moves 4cm away from the Earth every year']\n",
      "[' The highest daylight temperature of the Moon is 127 C']\n"
     ]
    }
   ],
   "source": [
    "#Crea un bucle para imprimir solo datos sobre la Luna que estén relacionados con las palabras clave definidas anteriormente:\n",
    "\n",
    "#si moon y average estan\n",
    "# imprime la oracion\n",
    "\n",
    "#Necesito\n",
    "## Recorrer cada elemto de la lista sentences\n",
    "    #REINICIAR LISTA NUEVA\n",
    "#por cada elemento de sentences, hacer una lista de SOLO ESE ELEMENTO\n",
    "##Recorrer esa lista nueva del elemento en turno\n",
    "#CONDICION: Si existe las palabras 'Moon' etc etc:\n",
    "    #           imprimir lista nueva  \n",
    "\n",
    "for iter in sentences:\n",
    "    #print(iter)\n",
    "    #print('original')\n",
    "    #iter.replace('C', 'Celsius')\n",
    "    newList= [iter]\n",
    "    for i in newList:\n",
    "        #i.replace('C', 'Celsius')\n",
    "        #print(newList)\n",
    "        #print('NUEVA LISTA ')\n",
    "        #si regresa -1, no esta\n",
    "        revisa =i.find('Moon')\n",
    "        revisa1 =i.find(busca1)\n",
    "        revisa2 =i.find(busca2)\n",
    "        revisa3 =i.find(busca3)\n",
    "        revisaC =i.find('C')\n",
    "        #print(revisa)\n",
    "        if revisaC != -1:\n",
    "            i.replace('C', 'Celsius')\n",
    "        if revisa != -1 and revisa1 != -1:\n",
    "            print(newList)\n",
    "        if revisa != -1 and revisa2 != -1:\n",
    "            print(newList)\n",
    "        if revisa != -1 and revisa3 != -1:\n",
    "            print(newList)\n",
    "\n",
    "\n",
    "\n",
    "print(text.replace('C', 'Celsius'))"
   ]
  },
  {
   "cell_type": "markdown",
   "metadata": {},
   "source": [
    "# Ejercicio 2: Formateando cadenas"
   ]
  },
  {
   "cell_type": "code",
   "execution_count": 18,
   "metadata": {},
   "outputs": [
    {
     "name": "stdout",
     "output_type": "stream",
     "text": [
      "The Gravity About Moon And Earth \n",
      "-------------------------------------------------------------------------------\n",
      "Planet Name: Earth\n",
      "Gravity on Ganymede: 1.6199999999999999 m/s^2\n"
     ]
    }
   ],
   "source": [
    "name = \"Moon\"\n",
    "gravity = 0.00162 # in kms\n",
    "planet = \"Earth\"\n",
    "\n",
    "#Creamos el titulo\n",
    "titulo = \"The Gravity about \"+  name +\" and \"+ planet\n",
    "\n",
    "#print(titulo.title())\n",
    "#Creamos plantilla \n",
    "plantilla= f\"\"\"{titulo.title()} \n",
    "-------------------------------------------------------------------------------\n",
    "Planet Name: {planet}\n",
    "Gravity on Ganymede: {gravity * 1000} m/s^2\"\"\"\n",
    "\n",
    "print(plantilla)"
   ]
  },
  {
   "cell_type": "code",
   "execution_count": 19,
   "metadata": {},
   "outputs": [
    {
     "name": "stdout",
     "output_type": "stream",
     "text": [
      "The Gravity about: Marte  \n",
      "-------------------------------------------------------------------------------\n",
      "Planet Name: Ganímedes\n",
      "Gravity on Ganímedes: 1.4300000000000002 m/s^2\n"
     ]
    }
   ],
   "source": [
    "planet = 'Marte '\n",
    "gravity  = 0.00143 * 1000\n",
    "name = 'Ganímedes'\n",
    "\n",
    "#print(plantilla)\n",
    "\n",
    "#nueva plantilla\n",
    "plantilla1= \"\"\"The Gravity about: {planeta} \n",
    "-------------------------------------------------------------------------------\n",
    "Planet Name: {nombre}\n",
    "Gravity on {nombre}: {gravedad} m/s^2\"\"\".format(planeta = planet, nombre = name, gravedad = gravity )\n",
    "\n",
    "print(plantilla1)"
   ]
  }
 ],
 "metadata": {
  "interpreter": {
   "hash": "7ab8cdf7cae5ed794ef6de7c5204494e65bfd5e4f02cca4fa69a7f1a09d19dc2"
  },
  "kernelspec": {
   "display_name": "Python 3.6.4 64-bit",
   "language": "python",
   "name": "python3"
  },
  "language_info": {
   "codemirror_mode": {
    "name": "ipython",
    "version": 3
   },
   "file_extension": ".py",
   "mimetype": "text/x-python",
   "name": "python",
   "nbconvert_exporter": "python",
   "pygments_lexer": "ipython3",
   "version": "3.10.2"
  },
  "orig_nbformat": 4
 },
 "nbformat": 4,
 "nbformat_minor": 2
}
