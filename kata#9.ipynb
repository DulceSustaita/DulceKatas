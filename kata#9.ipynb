{
 "cells": [
  {
   "cell_type": "markdown",
   "metadata": {},
   "source": [
    "# # Ejercicio: Uso de funciones en Python"
   ]
  },
  {
   "cell_type": "code",
   "execution_count": 13,
   "metadata": {},
   "outputs": [
    {
     "name": "stdout",
     "output_type": "stream",
     "text": [
      "4.0\n",
      "Combustible: \n",
      " Promedio:  4.0 \n",
      "Tanque1:  3 \n",
      "Tanque2 4 \n",
      "Tanque3: 5\n"
     ]
    }
   ],
   "source": [
    "# Función para leer 3 tanques de combustible y muestre el promedio\n",
    "def prom(cantidad1, cantidad2, cantidad3):\n",
    "    resultado = (cantidad1+cantidad2+cantidad3)/3\n",
    "    return resultado\n",
    "\n",
    "#print(prom(3,4,5))\n",
    "\n",
    "def Combustible(tanque1, tanque2, tanque3):\n",
    "    promedio = prom(tanque1, tanque2, tanque3)\n",
    "    print(\"Combustible: \\n Promedio: \", promedio, \"\\nTanque1: \", tanque1, \"\\nTanque2\", tanque2, \"\\nTanque3:\", tanque3)\n",
    "\n",
    "Combustible(3, 4 , 5)"
   ]
  },
  {
   "cell_type": "markdown",
   "metadata": {},
   "source": [
    "# # Ejercicio 2: Trabajo con argumentos de palabra clave"
   ]
  },
  {
   "cell_type": "code",
   "execution_count": 14,
   "metadata": {},
   "outputs": [
    {
     "name": "stdout",
     "output_type": "stream",
     "text": [
      "Reporte:\n",
      " Hora de prelanzamiento:  10000 hrs \n",
      "Tiempo de vuelo:  40 hrs \n",
      "Destino:  3000 \n",
      "Tanque Externo:  100 \n",
      "Tanque Interno:  100\n"
     ]
    }
   ],
   "source": [
    "# Función con un informe preciso de la misión. \n",
    "# Considera hora de prelanzamiento, tiempo de vuelo, destino, tanque externo y tanque interno\n",
    "def informe(hrPrel, vueloT, destino, tanqueExt, tanqueInt):\n",
    "    print(\"Reporte:\\n Hora de prelanzamiento: \", hrPrel, \"hrs\",\"\\nTiempo de vuelo: \", vueloT,\"hrs \\nDestino: \", destino, \"\\nTanque Externo: \", tanqueExt, \"\\nTanque Interno: \", tanqueInt)\n",
    "\n",
    "informe(10000, 40, 3000, 100, 100 )"
   ]
  },
  {
   "cell_type": "code",
   "execution_count": 23,
   "metadata": {},
   "outputs": [
    {
     "name": "stdout",
     "output_type": "stream",
     "text": [
      "Reporte:\n",
      "  Destino:  Moon Hora de prelanzamiento:  228 \n",
      " Tanque:  0\n"
     ]
    }
   ],
   "source": [
    "# Escribe tu nueva función de reporte considerando lo anterior\n",
    "def informe(destino, *tiempo, **tanque):\n",
    "    print(\"Reporte:\\n  Destino: \", destino, \"Hora de prelanzamiento: \", sum(tiempo), \"\\n Tanque: \", sum(tanque) )\n",
    "\n",
    "informe(\"Moon\", 20, 30, 90, 88)"
   ]
  }
 ],
 "metadata": {
  "interpreter": {
   "hash": "dcbde28c3b60d932f52f7fe64a9f9beaf0fd0de4220d2034193ff3ba875b85b3"
  },
  "kernelspec": {
   "display_name": "Python 3.10.2 64-bit",
   "language": "python",
   "name": "python3"
  },
  "language_info": {
   "codemirror_mode": {
    "name": "ipython",
    "version": 3
   },
   "file_extension": ".py",
   "mimetype": "text/x-python",
   "name": "python",
   "nbconvert_exporter": "python",
   "pygments_lexer": "ipython3",
   "version": "3.10.2"
  },
  "orig_nbformat": 4
 },
 "nbformat": 4,
 "nbformat_minor": 2
}
