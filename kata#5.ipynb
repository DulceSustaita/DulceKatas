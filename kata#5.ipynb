{
 "cells": [
  {
   "cell_type": "markdown",
   "metadata": {},
   "source": [
    "# # Ejercicio1 - Utilizar operadores aritméticos"
   ]
  },
  {
   "cell_type": "code",
   "execution_count": 21,
   "metadata": {},
   "outputs": [
    {
     "name": "stdout",
     "output_type": "stream",
     "text": [
      "Resta de la distancia:  628949330\n",
      "Resultado en Millas:  390577534\n"
     ]
    }
   ],
   "source": [
    "Tierra = 149597870  \n",
    "Júpiter = 778547200 \n",
    "\n",
    "resta = Tierra-Júpiter\n",
    "print(\"Resta de la distancia: \", abs(resta))\n",
    "millas=resta * 0.621\n",
    "millasT = abs(millas)\n",
    "print(\"Resultado en Millas: \", round(millasT))"
   ]
  },
  {
   "cell_type": "markdown",
   "metadata": {},
   "source": [
    "# # Ejercicio 2: convierte cadenas en números y usa valores absolutos"
   ]
  },
  {
   "cell_type": "code",
   "execution_count": 27,
   "metadata": {},
   "outputs": [
    {
     "name": "stdout",
     "output_type": "stream",
     "text": [
      "Resultado de resta de distancia:  2\n",
      "Resultado en millas:  1\n"
     ]
    }
   ],
   "source": [
    "# Almacenar las entradas del usuario\n",
    "#Pista: variable = input(\"¿Cuál es tu nombre?\")\n",
    "planeta1 = int(input(\"Distancia del primer Planeta: \"))\n",
    "planeta2 = int(input(\"Distancia del segundo Planeta: \"))\n",
    "# Realizar el cálculo y determinar el valor absoluto\n",
    "resta2 =  abs(planeta1 - planeta2)\n",
    "\n",
    "# Convertir de KM a Millas\n",
    "resultadoM = resta2 * 0.621\n",
    "\n",
    "print(\"Resultado de resta de distancia: \",resta2)\n",
    "print(\"Resultado en millas: \", round(resultadoM))"
   ]
  }
 ],
 "metadata": {
  "interpreter": {
   "hash": "dcbde28c3b60d932f52f7fe64a9f9beaf0fd0de4220d2034193ff3ba875b85b3"
  },
  "kernelspec": {
   "display_name": "Python 3.10.2 64-bit",
   "language": "python",
   "name": "python3"
  },
  "language_info": {
   "codemirror_mode": {
    "name": "ipython",
    "version": 3
   },
   "file_extension": ".py",
   "mimetype": "text/x-python",
   "name": "python",
   "nbconvert_exporter": "python",
   "pygments_lexer": "ipython3",
   "version": "3.10.2"
  },
  "orig_nbformat": 4
 },
 "nbformat": 4,
 "nbformat_minor": 2
}
